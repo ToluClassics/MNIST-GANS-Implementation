{
  "nbformat": 4,
  "nbformat_minor": 0,
  "metadata": {
    "colab": {
      "name": "KerasMnistDatasetClassification.ipynb",
      "provenance": [],
      "authorship_tag": "ABX9TyNEnzLR1jOSJQJK9nyW13Eu",
      "include_colab_link": true
    },
    "kernelspec": {
      "name": "python3",
      "display_name": "Python 3"
    }
  },
  "cells": [
    {
      "cell_type": "markdown",
      "metadata": {
        "id": "view-in-github",
        "colab_type": "text"
      },
      "source": [
        "<a href=\"https://colab.research.google.com/github/ToluClassics/MNIST-GANS-Implementation/blob/master/KerasMnistDatasetClassification.ipynb\" target=\"_parent\"><img src=\"https://colab.research.google.com/assets/colab-badge.svg\" alt=\"Open In Colab\"/></a>"
      ]
    },
    {
      "cell_type": "code",
      "metadata": {
        "id": "YTXdnMW1wGfg",
        "colab_type": "code",
        "colab": {
          "base_uri": "https://localhost:8080/",
          "height": 68
        },
        "outputId": "7366f823-50ac-410c-8cc2-720e9f9aa8d2"
      },
      "source": [
        "from keras.datasets import mnist\n",
        "\n",
        "(x_train,y_train),(x_test,y_test) = mnist.load_data()"
      ],
      "execution_count": 2,
      "outputs": [
        {
          "output_type": "stream",
          "text": [
            "Using TensorFlow backend.\n"
          ],
          "name": "stderr"
        },
        {
          "output_type": "stream",
          "text": [
            "Downloading data from https://s3.amazonaws.com/img-datasets/mnist.npz\n",
            "11493376/11490434 [==============================] - 1s 0us/step\n"
          ],
          "name": "stdout"
        }
      ]
    },
    {
      "cell_type": "code",
      "metadata": {
        "id": "WCoTwNQqwNaz",
        "colab_type": "code",
        "colab": {}
      },
      "source": [
        "pixel_size = x_train.shape[2]"
      ],
      "execution_count": 0,
      "outputs": []
    },
    {
      "cell_type": "code",
      "metadata": {
        "id": "kzT9h2wAwmN9",
        "colab_type": "code",
        "colab": {
          "base_uri": "https://localhost:8080/",
          "height": 34
        },
        "outputId": "2922c0d6-1be0-4902-fc74-f531cd607035"
      },
      "source": [
        "x_test.shape"
      ],
      "execution_count": 4,
      "outputs": [
        {
          "output_type": "execute_result",
          "data": {
            "text/plain": [
              "(10000, 28, 28)"
            ]
          },
          "metadata": {
            "tags": []
          },
          "execution_count": 4
        }
      ]
    },
    {
      "cell_type": "code",
      "metadata": {
        "id": "lPdJg4j5HiEO",
        "colab_type": "code",
        "colab": {
          "base_uri": "https://localhost:8080/",
          "height": 265
        },
        "outputId": "0bdf6317-acff-4ed8-c733-6fbded2c183a"
      },
      "source": [
        "data = x_train[5]\n",
        "import matplotlib.pyplot as plt\n",
        "\n",
        "plt.imshow(data,cmap=plt.cm.binary)\n",
        "plt.show()"
      ],
      "execution_count": 5,
      "outputs": [
        {
          "output_type": "display_data",
          "data": {
            "image/png": "[encoded data removed]",
            "text/plain": [
              "<Figure size 432x288 with 1 Axes>"
            ]
          },
          "metadata": {
            "tags": [],
            "needs_background": "light"
          }
        }
      ]
    },
    {
      "cell_type": "code",
      "metadata": {
        "id": "NTUmh3kBIgcf",
        "colab_type": "code",
        "colab": {
          "base_uri": "https://localhost:8080/",
          "height": 34
        },
        "outputId": "07aa4383-3156-4ecf-8854-ab81acce6d8e"
      },
      "source": [
        "data.shape"
      ],
      "execution_count": 6,
      "outputs": [
        {
          "output_type": "execute_result",
          "data": {
            "text/plain": [
              "(28, 28)"
            ]
          },
          "metadata": {
            "tags": []
          },
          "execution_count": 6
        }
      ]
    },
    {
      "cell_type": "code",
      "metadata": {
        "id": "jCMhzQz2w1Pf",
        "colab_type": "code",
        "colab": {}
      },
      "source": [
        "from keras import models\n",
        "from keras import layers"
      ],
      "execution_count": 0,
      "outputs": []
    },
    {
      "cell_type": "code",
      "metadata": {
        "id": "BZ1K0NHGw_wf",
        "colab_type": "code",
        "colab": {}
      },
      "source": [
        "nn = models.Sequential()\n",
        "nn.add(layers.Dense(512,activation='relu',input_shape=(pixel_size*pixel_size,)))\n",
        "nn.add(layers.Dense(10,activation='softmax'))"
      ],
      "execution_count": 0,
      "outputs": []
    },
    {
      "cell_type": "code",
      "metadata": {
        "id": "ugbDYBMV9RBF",
        "colab_type": "code",
        "colab": {}
      },
      "source": [
        "nn.compile(optimizer='rmsprop',loss='categorical_crossentropy',metrics=['accuracy'])"
      ],
      "execution_count": 0,
      "outputs": []
    },
    {
      "cell_type": "code",
      "metadata": {
        "id": "ATGgU2f6_mjN",
        "colab_type": "code",
        "colab": {}
      },
      "source": [
        "x_train = x_train.reshape((60000,28*28))\n",
        "x_train = x_train.astype('float32')/255"
      ],
      "execution_count": 0,
      "outputs": []
    },
    {
      "cell_type": "code",
      "metadata": {
        "id": "zBZU1-ei_8La",
        "colab_type": "code",
        "colab": {}
      },
      "source": [
        "x_test = x_test.reshape((10000,28*28))\n",
        "x_test = x_test.astype('float32')/255"
      ],
      "execution_count": 0,
      "outputs": []
    },
    {
      "cell_type": "code",
      "metadata": {
        "id": "Ny1vUCLlACkQ",
        "colab_type": "code",
        "colab": {}
      },
      "source": [
        "from keras.utils import to_categorical\n",
        "\n",
        "y_train = to_categorical(y_train)\n",
        "y_test = to_categorical(y_test)"
      ],
      "execution_count": 0,
      "outputs": []
    },
    {
      "cell_type": "code",
      "metadata": {
        "id": "QbqpIcmCA1j0",
        "colab_type": "code",
        "colab": {
          "base_uri": "https://localhost:8080/",
          "height": 1000
        },
        "outputId": "65bb5167-664f-4b3c-d8de-d7eae358485f"
      },
      "source": [
        "nn.fit(x_train,y_train,epochs=100,batch_size=128)"
      ],
      "execution_count": 13,
      "outputs": [
        {
          "output_type": "stream",
          "text": [
            "Epoch 1/100\n",
            "60000/60000 [==============================] - 4s 61us/step - loss: 0.2533 - accuracy: 0.9257\n",
            "Epoch 2/100\n",
            "60000/60000 [==============================] - 3s 56us/step - loss: 0.1039 - accuracy: 0.9692\n",
            "Epoch 3/100\n",
            "60000/60000 [==============================] - 3s 56us/step - loss: 0.0680 - accuracy: 0.9797\n",
            "Epoch 4/100\n",
            "60000/60000 [==============================] - 3s 56us/step - loss: 0.0491 - accuracy: 0.9853\n",
            "Epoch 5/100\n",
            "60000/60000 [==============================] - 3s 56us/step - loss: 0.0367 - accuracy: 0.9891\n",
            "Epoch 6/100\n",
            "60000/60000 [==============================] - 3s 56us/step - loss: 0.0278 - accuracy: 0.9917\n",
            "Epoch 7/100\n",
            "60000/60000 [==============================] - 3s 57us/step - loss: 0.0216 - accuracy: 0.9939\n",
            "Epoch 8/100\n",
            "60000/60000 [==============================] - 3s 55us/step - loss: 0.0160 - accuracy: 0.9956\n",
            "Epoch 9/100\n",
            "60000/60000 [==============================] - 3s 56us/step - loss: 0.0127 - accuracy: 0.9965\n",
            "Epoch 10/100\n",
            "60000/60000 [==============================] - 3s 57us/step - loss: 0.0100 - accuracy: 0.9972\n",
            "Epoch 11/100\n",
            "60000/60000 [==============================] - 3s 56us/step - loss: 0.0075 - accuracy: 0.9982\n",
            "Epoch 12/100\n",
            "60000/60000 [==============================] - 3s 56us/step - loss: 0.0061 - accuracy: 0.9985\n",
            "Epoch 13/100\n",
            "60000/60000 [==============================] - 3s 57us/step - loss: 0.0049 - accuracy: 0.9987\n",
            "Epoch 14/100\n",
            "60000/60000 [==============================] - 3s 56us/step - loss: 0.0036 - accuracy: 0.9990\n",
            "Epoch 15/100\n",
            "60000/60000 [==============================] - 3s 56us/step - loss: 0.0033 - accuracy: 0.9990\n",
            "Epoch 16/100\n",
            "60000/60000 [==============================] - 3s 55us/step - loss: 0.0022 - accuracy: 0.9994\n",
            "Epoch 17/100\n",
            "60000/60000 [==============================] - 3s 55us/step - loss: 0.0018 - accuracy: 0.9995\n",
            "Epoch 18/100\n",
            "60000/60000 [==============================] - 3s 57us/step - loss: 0.0013 - accuracy: 0.9997\n",
            "Epoch 19/100\n",
            "60000/60000 [==============================] - 3s 56us/step - loss: 0.0012 - accuracy: 0.9997\n",
            "Epoch 20/100\n",
            "60000/60000 [==============================] - 3s 56us/step - loss: 0.0010 - accuracy: 0.9997\n",
            "Epoch 21/100\n",
            "60000/60000 [==============================] - 3s 57us/step - loss: 8.9107e-04 - accuracy: 0.9998\n",
            "Epoch 22/100\n",
            "60000/60000 [==============================] - 3s 58us/step - loss: 5.1726e-04 - accuracy: 0.9999\n",
            "Epoch 23/100\n",
            "60000/60000 [==============================] - 3s 56us/step - loss: 5.7228e-04 - accuracy: 0.9998\n",
            "Epoch 24/100\n",
            "60000/60000 [==============================] - 3s 56us/step - loss: 4.4491e-04 - accuracy: 0.9998\n",
            "Epoch 25/100\n",
            "60000/60000 [==============================] - 3s 57us/step - loss: 4.4005e-04 - accuracy: 0.9999\n",
            "Epoch 26/100\n",
            "60000/60000 [==============================] - 3s 57us/step - loss: 2.1623e-04 - accuracy: 0.9999\n",
            "Epoch 27/100\n",
            "60000/60000 [==============================] - 3s 58us/step - loss: 2.3160e-04 - accuracy: 0.9999\n",
            "Epoch 28/100\n",
            "60000/60000 [==============================] - 3s 56us/step - loss: 2.0447e-04 - accuracy: 0.9999\n",
            "Epoch 29/100\n",
            "60000/60000 [==============================] - 4s 59us/step - loss: 9.9842e-05 - accuracy: 1.0000\n",
            "Epoch 30/100\n",
            "60000/60000 [==============================] - 3s 57us/step - loss: 1.3596e-04 - accuracy: 1.0000\n",
            "Epoch 31/100\n",
            "60000/60000 [==============================] - 3s 55us/step - loss: 1.1590e-04 - accuracy: 0.9999\n",
            "Epoch 32/100\n",
            "60000/60000 [==============================] - 3s 55us/step - loss: 4.9706e-05 - accuracy: 1.0000\n",
            "Epoch 33/100\n",
            "60000/60000 [==============================] - 3s 55us/step - loss: 5.4743e-05 - accuracy: 1.0000\n",
            "Epoch 34/100\n",
            "60000/60000 [==============================] - 3s 56us/step - loss: 8.1011e-05 - accuracy: 1.0000\n",
            "Epoch 35/100\n",
            "60000/60000 [==============================] - 3s 55us/step - loss: 2.3642e-05 - accuracy: 1.0000\n",
            "Epoch 36/100\n",
            "60000/60000 [==============================] - 3s 55us/step - loss: 1.2880e-04 - accuracy: 1.0000\n",
            "Epoch 37/100\n",
            "60000/60000 [==============================] - 3s 56us/step - loss: 2.0100e-05 - accuracy: 1.0000\n",
            "Epoch 38/100\n",
            "60000/60000 [==============================] - 3s 58us/step - loss: 5.6024e-05 - accuracy: 1.0000\n",
            "Epoch 39/100\n",
            "60000/60000 [==============================] - 3s 56us/step - loss: 1.1919e-05 - accuracy: 1.0000\n",
            "Epoch 40/100\n",
            "60000/60000 [==============================] - 3s 55us/step - loss: 2.8491e-05 - accuracy: 1.0000\n",
            "Epoch 41/100\n",
            "60000/60000 [==============================] - 3s 54us/step - loss: 7.6868e-06 - accuracy: 1.0000\n",
            "Epoch 42/100\n",
            "60000/60000 [==============================] - 3s 55us/step - loss: 6.2930e-05 - accuracy: 1.0000\n",
            "Epoch 43/100\n",
            "60000/60000 [==============================] - 3s 54us/step - loss: 2.6602e-06 - accuracy: 1.0000\n",
            "Epoch 44/100\n",
            "60000/60000 [==============================] - 3s 54us/step - loss: 1.3465e-07 - accuracy: 1.0000\n",
            "Epoch 45/100\n",
            "60000/60000 [==============================] - 3s 56us/step - loss: 2.0274e-07 - accuracy: 1.0000\n",
            "Epoch 46/100\n",
            "60000/60000 [==============================] - 3s 55us/step - loss: 3.2359e-08 - accuracy: 1.0000\n",
            "Epoch 47/100\n",
            "60000/60000 [==============================] - 3s 54us/step - loss: 2.8163e-08 - accuracy: 1.0000\n",
            "Epoch 48/100\n",
            "60000/60000 [==============================] - 3s 54us/step - loss: 1.8595e-08 - accuracy: 1.0000\n",
            "Epoch 49/100\n",
            "60000/60000 [==============================] - 3s 54us/step - loss: 1.5654e-08 - accuracy: 1.0000\n",
            "Epoch 50/100\n",
            "60000/60000 [==============================] - 3s 54us/step - loss: 1.4395e-08 - accuracy: 1.0000\n",
            "Epoch 51/100\n",
            "60000/60000 [==============================] - 3s 54us/step - loss: 1.3504e-08 - accuracy: 1.0000\n",
            "Epoch 52/100\n",
            "60000/60000 [==============================] - 3s 54us/step - loss: 1.2662e-08 - accuracy: 1.0000\n",
            "Epoch 53/100\n",
            "60000/60000 [==============================] - 3s 54us/step - loss: 1.1971e-08 - accuracy: 1.0000\n",
            "Epoch 54/100\n",
            "60000/60000 [==============================] - 3s 54us/step - loss: 1.1327e-08 - accuracy: 1.0000\n",
            "Epoch 55/100\n",
            "60000/60000 [==============================] - 3s 55us/step - loss: 1.0888e-08 - accuracy: 1.0000\n",
            "Epoch 56/100\n",
            "60000/60000 [==============================] - 3s 54us/step - loss: 1.0359e-08 - accuracy: 1.0000\n",
            "Epoch 57/100\n",
            "60000/60000 [==============================] - 3s 54us/step - loss: 9.9997e-09 - accuracy: 1.0000\n",
            "Epoch 58/100\n",
            "60000/60000 [==============================] - 3s 54us/step - loss: 9.6599e-09 - accuracy: 1.0000\n",
            "Epoch 59/100\n",
            "60000/60000 [==============================] - 3s 54us/step - loss: 9.2785e-09 - accuracy: 1.0000\n",
            "Epoch 60/100\n",
            "60000/60000 [==============================] - 3s 54us/step - loss: 8.9546e-09 - accuracy: 1.0000\n",
            "Epoch 61/100\n",
            "60000/60000 [==============================] - 3s 54us/step - loss: 8.6625e-09 - accuracy: 1.0000\n",
            "Epoch 62/100\n",
            "60000/60000 [==============================] - 3s 54us/step - loss: 8.3566e-09 - accuracy: 1.0000\n",
            "Epoch 63/100\n",
            "60000/60000 [==============================] - 3s 54us/step - loss: 8.1360e-09 - accuracy: 1.0000\n",
            "Epoch 64/100\n",
            "60000/60000 [==============================] - 3s 53us/step - loss: 7.9115e-09 - accuracy: 1.0000\n",
            "Epoch 65/100\n",
            "60000/60000 [==============================] - 3s 54us/step - loss: 7.6890e-09 - accuracy: 1.0000\n",
            "Epoch 66/100\n",
            "60000/60000 [==============================] - 3s 54us/step - loss: 7.4963e-09 - accuracy: 1.0000\n",
            "Epoch 67/100\n",
            "60000/60000 [==============================] - 3s 55us/step - loss: 7.3592e-09 - accuracy: 1.0000\n",
            "Epoch 68/100\n",
            "60000/60000 [==============================] - 3s 54us/step - loss: 7.1545e-09 - accuracy: 1.0000\n",
            "Epoch 69/100\n",
            "60000/60000 [==============================] - 3s 53us/step - loss: 7.0135e-09 - accuracy: 1.0000\n",
            "Epoch 70/100\n",
            "60000/60000 [==============================] - 3s 54us/step - loss: 6.8724e-09 - accuracy: 1.0000\n",
            "Epoch 71/100\n",
            "60000/60000 [==============================] - 3s 54us/step - loss: 6.7274e-09 - accuracy: 1.0000\n",
            "Epoch 72/100\n",
            "60000/60000 [==============================] - 3s 54us/step - loss: 6.6082e-09 - accuracy: 1.0000\n",
            "Epoch 73/100\n",
            "60000/60000 [==============================] - 3s 54us/step - loss: 6.4830e-09 - accuracy: 1.0000\n",
            "Epoch 74/100\n",
            "60000/60000 [==============================] - 3s 54us/step - loss: 6.3817e-09 - accuracy: 1.0000\n",
            "Epoch 75/100\n",
            "60000/60000 [==============================] - 3s 53us/step - loss: 6.3221e-09 - accuracy: 1.0000\n",
            "Epoch 76/100\n",
            "60000/60000 [==============================] - 3s 54us/step - loss: 6.1770e-09 - accuracy: 1.0000\n",
            "Epoch 77/100\n",
            "60000/60000 [==============================] - 3s 54us/step - loss: 6.0379e-09 - accuracy: 1.0000\n",
            "Epoch 78/100\n",
            "60000/60000 [==============================] - 3s 54us/step - loss: 5.9525e-09 - accuracy: 1.0000\n",
            "Epoch 79/100\n",
            "60000/60000 [==============================] - 3s 53us/step - loss: 5.9009e-09 - accuracy: 1.0000\n",
            "Epoch 80/100\n",
            "60000/60000 [==============================] - 3s 54us/step - loss: 5.8651e-09 - accuracy: 1.0000\n",
            "Epoch 81/100\n",
            "60000/60000 [==============================] - 3s 54us/step - loss: 5.7677e-09 - accuracy: 1.0000\n",
            "Epoch 82/100\n",
            "60000/60000 [==============================] - 3s 54us/step - loss: 5.6426e-09 - accuracy: 1.0000\n",
            "Epoch 83/100\n",
            "60000/60000 [==============================] - 3s 54us/step - loss: 5.6267e-09 - accuracy: 1.0000\n",
            "Epoch 84/100\n",
            "60000/60000 [==============================] - 3s 54us/step - loss: 5.5631e-09 - accuracy: 1.0000\n",
            "Epoch 85/100\n",
            "60000/60000 [==============================] - 3s 53us/step - loss: 5.4876e-09 - accuracy: 1.0000\n",
            "Epoch 86/100\n",
            "60000/60000 [==============================] - 3s 55us/step - loss: 5.4836e-09 - accuracy: 1.0000\n",
            "Epoch 87/100\n",
            "60000/60000 [==============================] - 3s 54us/step - loss: 5.4002e-09 - accuracy: 1.0000\n",
            "Epoch 88/100\n",
            "60000/60000 [==============================] - 3s 53us/step - loss: 5.3565e-09 - accuracy: 1.0000\n",
            "Epoch 89/100\n",
            "60000/60000 [==============================] - 3s 54us/step - loss: 5.3207e-09 - accuracy: 1.0000\n",
            "Epoch 90/100\n",
            "60000/60000 [==============================] - 3s 54us/step - loss: 5.2512e-09 - accuracy: 1.0000\n",
            "Epoch 91/100\n",
            "60000/60000 [==============================] - 3s 54us/step - loss: 5.1936e-09 - accuracy: 1.0000\n",
            "Epoch 92/100\n",
            "60000/60000 [==============================] - 3s 53us/step - loss: 5.1618e-09 - accuracy: 1.0000\n",
            "Epoch 93/100\n",
            "60000/60000 [==============================] - 3s 52us/step - loss: 5.1637e-09 - accuracy: 1.0000\n",
            "Epoch 94/100\n",
            "60000/60000 [==============================] - 3s 53us/step - loss: 5.0366e-09 - accuracy: 1.0000\n",
            "Epoch 95/100\n",
            "60000/60000 [==============================] - 3s 54us/step - loss: 5.0465e-09 - accuracy: 1.0000\n",
            "Epoch 96/100\n",
            "60000/60000 [==============================] - 3s 54us/step - loss: 4.9750e-09 - accuracy: 1.0000\n",
            "Epoch 97/100\n",
            "60000/60000 [==============================] - 3s 54us/step - loss: 4.9710e-09 - accuracy: 1.0000\n",
            "Epoch 98/100\n",
            "60000/60000 [==============================] - 3s 56us/step - loss: 4.9392e-09 - accuracy: 1.0000\n",
            "Epoch 99/100\n",
            "60000/60000 [==============================] - 3s 53us/step - loss: 4.8816e-09 - accuracy: 1.0000\n",
            "Epoch 100/100\n",
            "60000/60000 [==============================] - 3s 53us/step - loss: 4.8717e-09 - accuracy: 1.0000\n"
          ],
          "name": "stdout"
        },
        {
          "output_type": "execute_result",
          "data": {
            "text/plain": [
              "<keras.callbacks.callbacks.History at 0x7f3c6d7eac88>"
            ]
          },
          "metadata": {
            "tags": []
          },
          "execution_count": 13
        }
      ]
    },
    {
      "cell_type": "code",
      "metadata": {
        "id": "RKQRFnRsBKEL",
        "colab_type": "code",
        "colab": {
          "base_uri": "https://localhost:8080/",
          "height": 51
        },
        "outputId": "69c67937-960a-419d-fa5e-ee31a01a58db"
      },
      "source": [
        "test_loss,test_acc = nn.evaluate(x_test,y_test)\n",
        "x_test.shape"
      ],
      "execution_count": 14,
      "outputs": [
        {
          "output_type": "stream",
          "text": [
            "10000/10000 [==============================] - 0s 44us/step\n"
          ],
          "name": "stdout"
        },
        {
          "output_type": "execute_result",
          "data": {
            "text/plain": [
              "(10000, 784)"
            ]
          },
          "metadata": {
            "tags": []
          },
          "execution_count": 14
        }
      ]
    },
    {
      "cell_type": "code",
      "metadata": {
        "id": "Qts4nEnHBzZK",
        "colab_type": "code",
        "colab": {
          "base_uri": "https://localhost:8080/",
          "height": 34
        },
        "outputId": "c25c7ee5-12a6-4303-f730-cd5bf8e17a3e"
      },
      "source": [
        "print(test_acc)"
      ],
      "execution_count": 15,
      "outputs": [
        {
          "output_type": "stream",
          "text": [
            "0.9830999970436096\n"
          ],
          "name": "stdout"
        }
      ]
    },
    {
      "cell_type": "code",
      "metadata": {
        "id": "KcDq-MR6QjOi",
        "colab_type": "code",
        "colab": {
          "base_uri": "https://localhost:8080/",
          "height": 34
        },
        "outputId": "4ea777aa-ae92-49f6-a8af-cc8579e4d031"
      },
      "source": [
        "data = data.reshape(784,)\n",
        "data.shape"
      ],
      "execution_count": 19,
      "outputs": [
        {
          "output_type": "execute_result",
          "data": {
            "text/plain": [
              "(784,)"
            ]
          },
          "metadata": {
            "tags": []
          },
          "execution_count": 19
        }
      ]
    },
    {
      "cell_type": "code",
      "metadata": {
        "id": "L1yHqDaoENpH",
        "colab_type": "code",
        "colab": {}
      },
      "source": [
        ""
      ],
      "execution_count": 0,
      "outputs": []
    },
    {
      "cell_type": "code",
      "metadata": {
        "id": "aSzbAlhJOuoH",
        "colab_type": "code",
        "colab": {}
      },
      "source": [
        ""
      ],
      "execution_count": 0,
      "outputs": []
    }
  ]
}